{
 "cells": [
  {
   "cell_type": "code",
   "execution_count": 12,
   "metadata": {},
   "outputs": [],
   "source": [
    "import cv2\n",
    "import numpy as np\n",
    "from tensorflow.keras.models import load_model\n",
    "from tensorflow.keras.applications.efficientnet import preprocess_input\n",
    "from sklearn.metrics import accuracy_score, precision_score, recall_score, confusion_matrix, roc_curve, auc\n",
    "import os\n",
    "\n",
    "# from plots import plot_confusion_matrix, plot_roc_curve"
   ]
  },
  {
   "cell_type": "code",
   "execution_count": 3,
   "metadata": {},
   "outputs": [
    {
     "name": "stderr",
     "output_type": "stream",
     "text": [
      "2024-04-08 20:22:51.812785: I tensorflow/core/common_runtime/gpu/gpu_device.cc:1929] Created device /job:localhost/replica:0/task:0/device:GPU:0 with 14781 MB memory:  -> device: 0, name: Tesla V100-PCIE-16GB, pci bus id: 0000:d8:00.0, compute capability: 7.0\n"
     ]
    }
   ],
   "source": [
    "model_path = '../models/deepfake_detection_models/faces_trained_model.h5'\n",
    "model = load_model(model_path)"
   ]
  },
  {
   "cell_type": "code",
   "execution_count": 14,
   "metadata": {},
   "outputs": [
    {
     "name": "stdout",
     "output_type": "stream",
     "text": [
      "247/247 [==============================] - 38s 128ms/step\n"
     ]
    }
   ],
   "source": [
    "test_dir = '../test_dataset'  # Adjust the path as necessary\n",
    "images = []\n",
    "labels = []\n",
    "\n",
    "for idx, label in enumerate([\"REAL\", \"FAKE\"]):\n",
    "    test_path = os.path.join(test_dir, label)\n",
    "    for img_path in list(map(lambda x: os.path.join(test_path, x), os.listdir(test_path))):\n",
    "        img = cv2.imread(img_path)\n",
    "        img = cv2.resize(img, (224, 224))  # Resize to match model input, adjust as necessary\n",
    "        img = cv2.cvtColor(img, cv2.COLOR_BGR2RGB)  # Convert color from BGR to RGB\n",
    "        images.append(img)\n",
    "        labels.append(idx)\n",
    "\n",
    "images = np.array(images)\n",
    "# The preprocess_input function expects float inputs\n",
    "images = preprocess_input(images.astype('float32'))\n",
    "\n",
    "labels = np.array(labels)\n",
    "\n",
    "# Predict\n",
    "predictions = model.predict(images)"
   ]
  },
  {
   "cell_type": "code",
   "execution_count": 15,
   "metadata": {},
   "outputs": [],
   "source": [
    "# Convert predictions to label indices (0 or 1) based on a threshold (e.g., 0.5)\n",
    "predicted_classes = (predictions > 0.5).astype('int').reshape(-1)"
   ]
  },
  {
   "cell_type": "code",
   "execution_count": 16,
   "metadata": {},
   "outputs": [
    {
     "name": "stdout",
     "output_type": "stream",
     "text": [
      "Accuracy: 0.8346456692913385, Precision: 0.8763102725366876, Recall: 0.9376401973979362\n"
     ]
    }
   ],
   "source": [
    "accuracy = accuracy_score(labels, predicted_classes)\n",
    "precision = precision_score(labels, predicted_classes)\n",
    "recall = recall_score(labels, predicted_classes)\n",
    "print(f\"Accuracy: {accuracy}, Precision: {precision}, Recall: {recall}\")"
   ]
  },
  {
   "cell_type": "code",
   "execution_count": null,
   "metadata": {},
   "outputs": [],
   "source": [
    "# Output directory for plots\n",
    "output_dir = 'evaluation_plots'\n",
    "os.makedirs(output_dir, exist_ok=True)\n",
    "\n",
    "# Confusion Matrix Plot\n",
    "plot_confusion_matrix(labels, predicted_classes, output_dir, \"Confusion Matrix\")\n",
    "\n",
    "# ROC Curve Plot\n",
    "fpr, tpr, _ = roc_curve(labels, predictions)\n",
    "roc_auc = auc(fpr, tpr)\n",
    "print(f\"AUC: {roc_auc}\")\n",
    "plot_roc_curve(labels, predictions.ravel(), output_dir, \"ROC Curve\")"
   ]
  }
 ],
 "metadata": {
  "kernelspec": {
   "display_name": "Python 3",
   "language": "python",
   "name": "python3"
  },
  "language_info": {
   "codemirror_mode": {
    "name": "ipython",
    "version": 3
   },
   "file_extension": ".py",
   "mimetype": "text/x-python",
   "name": "python",
   "nbconvert_exporter": "python",
   "pygments_lexer": "ipython3",
   "version": "3.11.7"
  }
 },
 "nbformat": 4,
 "nbformat_minor": 2
}
