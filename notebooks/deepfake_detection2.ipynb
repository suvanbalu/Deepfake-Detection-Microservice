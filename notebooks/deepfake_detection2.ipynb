{
 "cells": [
  {
   "cell_type": "code",
   "execution_count": 1,
   "metadata": {},
   "outputs": [
    {
     "name": "stderr",
     "output_type": "stream",
     "text": [
      "/tmp/ipykernel_71960/1281039887.py:1: DeprecationWarning: \n",
      "Pyarrow will become a required dependency of pandas in the next major release of pandas (pandas 3.0),\n",
      "(to allow more performant data types, such as the Arrow string type, and better interoperability with other libraries)\n",
      "but was not found to be installed on your system.\n",
      "If this would cause problems for you,\n",
      "please provide us feedback at https://github.com/pandas-dev/pandas/issues/54466\n",
      "        \n",
      "  import pandas as pd\n",
      "2024-02-21 18:24:37.912764: E external/local_xla/xla/stream_executor/cuda/cuda_dnn.cc:9261] Unable to register cuDNN factory: Attempting to register factory for plugin cuDNN when one has already been registered\n",
      "2024-02-21 18:24:37.912821: E external/local_xla/xla/stream_executor/cuda/cuda_fft.cc:607] Unable to register cuFFT factory: Attempting to register factory for plugin cuFFT when one has already been registered\n",
      "2024-02-21 18:24:37.914977: E external/local_xla/xla/stream_executor/cuda/cuda_blas.cc:1515] Unable to register cuBLAS factory: Attempting to register factory for plugin cuBLAS when one has already been registered\n",
      "2024-02-21 18:24:37.926752: I tensorflow/core/platform/cpu_feature_guard.cc:182] This TensorFlow binary is optimized to use available CPU instructions in performance-critical operations.\n",
      "To enable the following instructions: AVX2 AVX512F FMA, in other operations, rebuild TensorFlow with the appropriate compiler flags.\n"
     ]
    }
   ],
   "source": [
    "import pandas as pd\n",
    "import os\n",
    "import random\n",
    "import shutil\n",
    "import glob\n",
    "import numpy as np\n",
    "import cv2\n",
    "import matplotlib.pyplot as plt\n",
    "from sklearn.metrics import confusion_matrix\n",
    "import seaborn as sns\n",
    "import logging\n",
    "from datetime import datetime\n",
    "\n",
    "import tensorflow as tf\n",
    "from tensorflow.keras import layers\n",
    "from tensorflow.keras.applications import EfficientNetB0\n",
    "from sklearn.model_selection import train_test_split"
   ]
  },
  {
   "cell_type": "code",
   "execution_count": 2,
   "metadata": {},
   "outputs": [],
   "source": [
    "gpus = tf.config.experimental.list_physical_devices('GPU')\n",
    "if gpus:\n",
    "    try:\n",
    "        # Set GPU memory growth\n",
    "        for gpu in gpus:\n",
    "            tf.config.experimental.set_memory_growth(gpu, True)\n",
    "\n",
    "        # Set GPU memory limit to 14 GB\n",
    "        tf.config.experimental.set_virtual_device_configuration(\n",
    "            gpus[0],\n",
    "            [tf.config.experimental.VirtualDeviceConfiguration(memory_limit=14*1024)]\n",
    "        )\n",
    "    except RuntimeError as e:\n",
    "        print(e)\n",
    "\n",
    "# Function to clear VRAM\n",
    "def clear_memory():\n",
    "    tf.keras.backend.clear_session()"
   ]
  },
  {
   "cell_type": "code",
   "execution_count": 3,
   "metadata": {},
   "outputs": [],
   "source": [
    "tf.config.run_functions_eagerly(True) #fix for https://github.com/tensorflow/tensorflow/issues/59578"
   ]
  },
  {
   "cell_type": "markdown",
   "metadata": {},
   "source": [
    "Finding Number of faces in FAKE and REAL labelled folders"
   ]
  },
  {
   "cell_type": "code",
   "execution_count": 4,
   "metadata": {},
   "outputs": [],
   "source": [
    "face_path = \"faces\"\n",
    "fake_images_dir = os.path.join(face_path, \"FAKE\")\n",
    "real_images_dir = os.path.join(face_path,\"REAL\")"
   ]
  },
  {
   "cell_type": "code",
   "execution_count": 3,
   "metadata": {},
   "outputs": [
    {
     "name": "stdout",
     "output_type": "stream",
     "text": [
      "No. of Deep-Faked Faces 9810\n",
      "No. of Real Faces 1201\n"
     ]
    }
   ],
   "source": [
    "\n",
    "# print(\"No. of Deep-Faked Faces\",len(os.listdir(fake_images_dir)))\n",
    "# print(\"No. of Real Faces\",len(os.listdir(real_images_dir)))"
   ]
  },
  {
   "cell_type": "markdown",
   "metadata": {},
   "source": [
    "There are 9x more fake images than real images, so we need to balance the dataset. We will follow a mixed approach to balance the dataset.\n",
    "\n",
    "1. Remove the 3rd frame from the fake videos to reduce the number of fake images. (approximately 3x reduction in fake images)\n",
    "2. Randomly select n number of fake images to balance the dataset. (where n is variable and model is trained on different values of n to find the best value)\n",
    "\n",
    "We are moving all the unused images to a separate folder called `unused_images` for future use."
   ]
  },
  {
   "cell_type": "code",
   "execution_count": 5,
   "metadata": {},
   "outputs": [
    {
     "data": {
      "text/plain": [
       "['yhlarojulr.mp4_1.jpg',\n",
       " 'pgrghbkdje.mp4_1.jpg',\n",
       " 'zyxpalvtsh.mp4_0.jpg',\n",
       " 'uziohtecjc.mp4_1.jpg',\n",
       " 'ijfurmuiih.mp4_1.jpg',\n",
       " 'kqcxyyewep.mp4_0.jpg',\n",
       " 'kjnffimpfp.mp4_1.jpg',\n",
       " 'uxnaaimitn.mp4_0.jpg',\n",
       " 'plkdwbceoh.mp4_0.jpg',\n",
       " 'bbkprckncv.mp4_1.jpg']"
      ]
     },
     "execution_count": 5,
     "metadata": {},
     "output_type": "execute_result"
    }
   ],
   "source": [
    "os.listdir(fake_images_dir)[:10]"
   ]
  },
  {
   "cell_type": "code",
   "execution_count": 6,
   "metadata": {},
   "outputs": [
    {
     "name": "stdout",
     "output_type": "stream",
     "text": [
      "6745\n"
     ]
    }
   ],
   "source": [
    "unused_folder = os.path.join(face_path, \"unused_images\")\n",
    "\n",
    "if not os.path.exists(unused_folder):\n",
    "    os.mkdir(unused_folder)\n",
    "\n",
    "fake_images = glob.glob(os.path.join(fake_images_dir, \"*_2.j*\"))\n",
    "\n",
    "for file_path in fake_images:\n",
    "    filename = os.path.basename(file_path)\n",
    "    dest_path = os.path.join(unused_folder, filename)\n",
    "    shutil.move(file_path, dest_path)\n",
    "\n",
    "print(len(os.listdir(fake_images_dir)))"
   ]
  },
  {
   "cell_type": "code",
   "execution_count": 7,
   "metadata": {},
   "outputs": [
    {
     "name": "stdout",
     "output_type": "stream",
     "text": [
      "1000 ['faces/FAKE/mdydgtvghc.mp4_1.jpg', 'faces/FAKE/meehftqexr.mp4_0.jpg', 'faces/FAKE/eyjejjgdyd.mp4_0.jpg', 'faces/FAKE/qgnhqmtbko.mp4_1.jpg', 'faces/FAKE/dpqxzvyccv.mp4_0.jpg']\n"
     ]
    }
   ],
   "source": [
    "def n_random_files(n,src_dir):\n",
    "  files = list(map(lambda x : os.path.join(src_dir, x),os.listdir(src_dir)))\n",
    "  sampled_files = random.sample(files,n)\n",
    "  return sampled_files\n",
    "\n",
    "fake_1000 = n_random_files(1000,fake_images_dir)\n",
    "print(len(fake_1000), fake_1000[:5])"
   ]
  },
  {
   "cell_type": "markdown",
   "metadata": {},
   "source": [
    "Loading the Images and the Labels"
   ]
  },
  {
   "cell_type": "code",
   "execution_count": 8,
   "metadata": {},
   "outputs": [
    {
     "name": "stdout",
     "output_type": "stream",
     "text": [
      "(224, 224, 3)\n"
     ]
    }
   ],
   "source": [
    "a = cv2.imread(fake_1000[0])\n",
    "print(a.shape)"
   ]
  },
  {
   "cell_type": "code",
   "execution_count": 9,
   "metadata": {},
   "outputs": [],
   "source": [
    "def load_dataset(fake_files, real_files):\n",
    "  images = []\n",
    "  labels = []\n",
    "\n",
    "  for file in fake_files:\n",
    "    image = cv2.imread(file)\n",
    "    images.append(image)\n",
    "    labels.append(1)\n",
    "  \n",
    "  for file in real_files:\n",
    "    image = cv2.imread(file)\n",
    "    images.append(image)\n",
    "    labels.append(0)\n",
    "  \n",
    "  return np.array(images), np.array(labels)"
   ]
  },
  {
   "cell_type": "code",
   "execution_count": 8,
   "metadata": {},
   "outputs": [
    {
     "name": "stdout",
     "output_type": "stream",
     "text": [
      "(200, 224, 224, 3) (200,)\n"
     ]
    }
   ],
   "source": [
    "fake_files = n_random_files(100,fake_images_dir)\n",
    "real_files = n_random_files(100,real_images_dir)\n",
    "\n",
    "images, labels = load_dataset(fake_files, real_files)\n",
    "\n",
    "print(images.shape, labels.shape)"
   ]
  },
  {
   "cell_type": "markdown",
   "metadata": {},
   "source": [
    "Train the model on the dataset"
   ]
  },
  {
   "cell_type": "code",
   "execution_count": 9,
   "metadata": {},
   "outputs": [],
   "source": [
    "train_images, val_images, train_labels, val_labels = train_test_split(\n",
    "    images, labels, test_size=0.3, random_state=42\n",
    ")"
   ]
  },
  {
   "cell_type": "code",
   "execution_count": 10,
   "metadata": {},
   "outputs": [],
   "source": [
    "train_images = tf.keras.applications.efficientnet.preprocess_input(train_images)\n",
    "val_images = tf.keras.applications.efficientnet.preprocess_input(val_images)"
   ]
  },
  {
   "cell_type": "code",
   "execution_count": 12,
   "metadata": {},
   "outputs": [
    {
     "name": "stderr",
     "output_type": "stream",
     "text": [
      "2024-02-21 14:02:11.938941: I tensorflow/core/common_runtime/gpu/gpu_device.cc:1929] Created device /job:localhost/replica:0/task:0/device:GPU:0 with 14781 MB memory:  -> device: 0, name: Tesla V100-PCIE-16GB, pci bus id: 0000:d8:00.0, compute capability: 7.0\n"
     ]
    }
   ],
   "source": [
    "\n",
    "base_model = EfficientNetB0(input_shape=(224, 224, 3), include_top=False, weights='imagenet')\n",
    "base_model.trainable = False\n",
    "\n",
    "model = tf.keras.Sequential([\n",
    "    base_model,\n",
    "    layers.GlobalAveragePooling2D(),\n",
    "    layers.Dense(1, activation='sigmoid')  \n",
    "])\n",
    "\n",
    "model.compile(optimizer='adam', loss='binary_crossentropy', metrics=['accuracy'])\n",
    "\n",
    "# model.summary()"
   ]
  },
  {
   "cell_type": "code",
   "execution_count": null,
   "metadata": {},
   "outputs": [],
   "source": [
    "batch_size=12\n",
    "epochs=5"
   ]
  },
  {
   "cell_type": "code",
   "execution_count": 13,
   "metadata": {},
   "outputs": [
    {
     "name": "stdout",
     "output_type": "stream",
     "text": [
      "Epoch 1/5\n"
     ]
    },
    {
     "name": "stderr",
     "output_type": "stream",
     "text": [
      "/home/psg/.local/lib/python3.11/site-packages/tensorflow/python/data/ops/structured_function.py:258: UserWarning: Even though the `tf.config.experimental_run_functions_eagerly` option is set, this option does not apply to tf.data functions. To force eager execution of tf.data functions, please use `tf.data.experimental.enable_debug_mode()`.\n",
      "  warnings.warn(\n",
      "2024-02-21 14:02:19.675955: E external/local_xla/xla/stream_executor/gpu/asm_compiler.cc:115] *** WARNING *** You are using ptxas 10.1.243, which is older than 11.1. ptxas before 11.1 is known to miscompile XLA code, leading to incorrect results or invalid-address errors.\n",
      "\n",
      "2024-02-21 14:02:19.744457: W tensorflow/compiler/mlir/tools/kernel_gen/transforms/gpu_kernel_to_blob_pass.cc:191] Failed to compile generated PTX with ptxas. Falling back to compilation by driver.\n",
      "2024-02-21 14:02:19.931192: E external/local_xla/xla/stream_executor/gpu/asm_compiler.cc:115] *** WARNING *** You are using ptxas 10.1.243, which is older than 11.1. ptxas before 11.1 is known to miscompile XLA code, leading to incorrect results or invalid-address errors.\n",
      "\n",
      "2024-02-21 14:02:19.931571: E external/local_xla/xla/stream_executor/gpu/asm_compiler.cc:115] *** WARNING *** You are using ptxas 10.1.243, which is older than 11.1. ptxas before 11.1 is known to miscompile XLA code, leading to incorrect results or invalid-address errors.\n",
      "\n",
      "2024-02-21 14:02:19.934269: E external/local_xla/xla/stream_executor/gpu/asm_compiler.cc:115] *** WARNING *** You are using ptxas 10.1.243, which is older than 11.1. ptxas before 11.1 is known to miscompile XLA code, leading to incorrect results or invalid-address errors.\n",
      "\n",
      "2024-02-21 14:02:19.935158: E external/local_xla/xla/stream_executor/gpu/asm_compiler.cc:115] *** WARNING *** You are using ptxas 10.1.243, which is older than 11.1. ptxas before 11.1 is known to miscompile XLA code, leading to incorrect results or invalid-address errors.\n",
      "\n",
      "2024-02-21 14:02:19.937129: E external/local_xla/xla/stream_executor/gpu/asm_compiler.cc:115] *** WARNING *** You are using ptxas 10.1.243, which is older than 11.1. ptxas before 11.1 is known to miscompile XLA code, leading to incorrect results or invalid-address errors.\n",
      "\n",
      "2024-02-21 14:02:19.939463: E external/local_xla/xla/stream_executor/gpu/asm_compiler.cc:115] *** WARNING *** You are using ptxas 10.1.243, which is older than 11.1. ptxas before 11.1 is known to miscompile XLA code, leading to incorrect results or invalid-address errors.\n",
      "\n",
      "2024-02-21 14:02:19.941325: E external/local_xla/xla/stream_executor/gpu/asm_compiler.cc:115] *** WARNING *** You are using ptxas 10.1.243, which is older than 11.1. ptxas before 11.1 is known to miscompile XLA code, leading to incorrect results or invalid-address errors.\n",
      "\n",
      "2024-02-21 14:02:19.943754: E external/local_xla/xla/stream_executor/gpu/asm_compiler.cc:115] *** WARNING *** You are using ptxas 10.1.243, which is older than 11.1. ptxas before 11.1 is known to miscompile XLA code, leading to incorrect results or invalid-address errors.\n",
      "\n",
      "2024-02-21 14:02:20.001617: W tensorflow/compiler/mlir/tools/kernel_gen/transforms/gpu_kernel_to_blob_pass.cc:191] Failed to compile generated PTX with ptxas. Falling back to compilation by driver.\n",
      "2024-02-21 14:02:20.008550: W tensorflow/compiler/mlir/tools/kernel_gen/transforms/gpu_kernel_to_blob_pass.cc:191] Failed to compile generated PTX with ptxas. Falling back to compilation by driver.\n",
      "2024-02-21 14:02:20.008929: W tensorflow/compiler/mlir/tools/kernel_gen/transforms/gpu_kernel_to_blob_pass.cc:191] Failed to compile generated PTX with ptxas. Falling back to compilation by driver.\n",
      "2024-02-21 14:02:20.010569: W tensorflow/compiler/mlir/tools/kernel_gen/transforms/gpu_kernel_to_blob_pass.cc:191] Failed to compile generated PTX with ptxas. Falling back to compilation by driver.\n",
      "2024-02-21 14:02:20.010592: W tensorflow/compiler/mlir/tools/kernel_gen/transforms/gpu_kernel_to_blob_pass.cc:191] Failed to compile generated PTX with ptxas. Falling back to compilation by driver.\n",
      "2024-02-21 14:02:20.010884: W tensorflow/compiler/mlir/tools/kernel_gen/transforms/gpu_kernel_to_blob_pass.cc:191] Failed to compile generated PTX with ptxas. Falling back to compilation by driver.\n",
      "2024-02-21 14:02:20.014508: W tensorflow/compiler/mlir/tools/kernel_gen/transforms/gpu_kernel_to_blob_pass.cc:191] Failed to compile generated PTX with ptxas. Falling back to compilation by driver.\n",
      "2024-02-21 14:02:20.023882: W tensorflow/compiler/mlir/tools/kernel_gen/transforms/gpu_kernel_to_blob_pass.cc:191] Failed to compile generated PTX with ptxas. Falling back to compilation by driver.\n",
      "2024-02-21 14:02:20.528173: I external/local_xla/xla/stream_executor/cuda/cuda_dnn.cc:454] Loaded cuDNN version 8907\n",
      "2024-02-21 14:02:20.730869: E external/local_xla/xla/stream_executor/gpu/asm_compiler.cc:115] *** WARNING *** You are using ptxas 10.1.243, which is older than 11.1. ptxas before 11.1 is known to miscompile XLA code, leading to incorrect results or invalid-address errors.\n",
      "\n",
      "2024-02-21 14:02:20.919917: E external/local_xla/xla/stream_executor/gpu/asm_compiler.cc:115] *** WARNING *** You are using ptxas 10.1.243, which is older than 11.1. ptxas before 11.1 is known to miscompile XLA code, leading to incorrect results or invalid-address errors.\n",
      "\n",
      "2024-02-21 14:02:20.988103: W tensorflow/compiler/mlir/tools/kernel_gen/transforms/gpu_kernel_to_blob_pass.cc:191] Failed to compile generated PTX with ptxas. Falling back to compilation by driver.\n",
      "2024-02-21 14:02:21.396890: E external/local_xla/xla/stream_executor/gpu/asm_compiler.cc:115] *** WARNING *** You are using ptxas 10.1.243, which is older than 11.1. ptxas before 11.1 is known to miscompile XLA code, leading to incorrect results or invalid-address errors.\n",
      "\n",
      "2024-02-21 14:02:21.401414: E external/local_xla/xla/stream_executor/gpu/asm_compiler.cc:115] *** WARNING *** You are using ptxas 10.1.243, which is older than 11.1. ptxas before 11.1 is known to miscompile XLA code, leading to incorrect results or invalid-address errors.\n",
      "\n",
      "2024-02-21 14:02:21.403214: E external/local_xla/xla/stream_executor/gpu/asm_compiler.cc:115] *** WARNING *** You are using ptxas 10.1.243, which is older than 11.1. ptxas before 11.1 is known to miscompile XLA code, leading to incorrect results or invalid-address errors.\n",
      "\n",
      "2024-02-21 14:02:21.403833: E external/local_xla/xla/stream_executor/gpu/asm_compiler.cc:115] *** WARNING *** You are using ptxas 10.1.243, which is older than 11.1. ptxas before 11.1 is known to miscompile XLA code, leading to incorrect results or invalid-address errors.\n",
      "\n",
      "2024-02-21 14:02:21.404676: E external/local_xla/xla/stream_executor/gpu/asm_compiler.cc:115] *** WARNING *** You are using ptxas 10.1.243, which is older than 11.1. ptxas before 11.1 is known to miscompile XLA code, leading to incorrect results or invalid-address errors.\n",
      "\n",
      "2024-02-21 14:02:21.406550: E external/local_xla/xla/stream_executor/gpu/asm_compiler.cc:115] *** WARNING *** You are using ptxas 10.1.243, which is older than 11.1. ptxas before 11.1 is known to miscompile XLA code, leading to incorrect results or invalid-address errors.\n",
      "\n",
      "2024-02-21 14:02:21.407569: E external/local_xla/xla/stream_executor/gpu/asm_compiler.cc:115] *** WARNING *** You are using ptxas 10.1.243, which is older than 11.1. ptxas before 11.1 is known to miscompile XLA code, leading to incorrect results or invalid-address errors.\n",
      "\n",
      "2024-02-21 14:02:21.409493: E external/local_xla/xla/stream_executor/gpu/asm_compiler.cc:115] *** WARNING *** You are using ptxas 10.1.243, which is older than 11.1. ptxas before 11.1 is known to miscompile XLA code, leading to incorrect results or invalid-address errors.\n",
      "\n",
      "2024-02-21 14:02:21.410565: E external/local_xla/xla/stream_executor/gpu/asm_compiler.cc:115] *** WARNING *** You are using ptxas 10.1.243, which is older than 11.1. ptxas before 11.1 is known to miscompile XLA code, leading to incorrect results or invalid-address errors.\n",
      "\n",
      "2024-02-21 14:02:21.456619: W tensorflow/compiler/mlir/tools/kernel_gen/transforms/gpu_kernel_to_blob_pass.cc:191] Failed to compile generated PTX with ptxas. Falling back to compilation by driver.\n",
      "2024-02-21 14:02:21.457094: W tensorflow/compiler/mlir/tools/kernel_gen/transforms/gpu_kernel_to_blob_pass.cc:191] Failed to compile generated PTX with ptxas. Falling back to compilation by driver.\n",
      "2024-02-21 14:02:21.461072: W tensorflow/compiler/mlir/tools/kernel_gen/transforms/gpu_kernel_to_blob_pass.cc:191] Failed to compile generated PTX with ptxas. Falling back to compilation by driver.\n",
      "2024-02-21 14:02:21.463248: W tensorflow/compiler/mlir/tools/kernel_gen/transforms/gpu_kernel_to_blob_pass.cc:191] Failed to compile generated PTX with ptxas. Falling back to compilation by driver.\n",
      "2024-02-21 14:02:21.463622: W tensorflow/compiler/mlir/tools/kernel_gen/transforms/gpu_kernel_to_blob_pass.cc:191] Failed to compile generated PTX with ptxas. Falling back to compilation by driver.\n",
      "2024-02-21 14:02:21.465580: W tensorflow/compiler/mlir/tools/kernel_gen/transforms/gpu_kernel_to_blob_pass.cc:191] Failed to compile generated PTX with ptxas. Falling back to compilation by driver.\n",
      "2024-02-21 14:02:21.471760: W tensorflow/compiler/mlir/tools/kernel_gen/transforms/gpu_kernel_to_blob_pass.cc:191] Failed to compile generated PTX with ptxas. Falling back to compilation by driver.\n",
      "2024-02-21 14:02:21.492596: W tensorflow/compiler/mlir/tools/kernel_gen/transforms/gpu_kernel_to_blob_pass.cc:191] Failed to compile generated PTX with ptxas. Falling back to compilation by driver.\n",
      "2024-02-21 14:02:21.494459: W tensorflow/compiler/mlir/tools/kernel_gen/transforms/gpu_kernel_to_blob_pass.cc:191] Failed to compile generated PTX with ptxas. Falling back to compilation by driver.\n",
      "2024-02-21 14:02:22.658963: E external/local_xla/xla/stream_executor/gpu/asm_compiler.cc:115] *** WARNING *** You are using ptxas 10.1.243, which is older than 11.1. ptxas before 11.1 is known to miscompile XLA code, leading to incorrect results or invalid-address errors.\n",
      "\n",
      "2024-02-21 14:02:22.727989: W tensorflow/compiler/mlir/tools/kernel_gen/transforms/gpu_kernel_to_blob_pass.cc:191] Failed to compile generated PTX with ptxas. Falling back to compilation by driver.\n",
      "2024-02-21 14:02:22.801771: E external/local_xla/xla/stream_executor/gpu/asm_compiler.cc:115] *** WARNING *** You are using ptxas 10.1.243, which is older than 11.1. ptxas before 11.1 is known to miscompile XLA code, leading to incorrect results or invalid-address errors.\n",
      "\n",
      "2024-02-21 14:02:22.855473: W tensorflow/compiler/mlir/tools/kernel_gen/transforms/gpu_kernel_to_blob_pass.cc:191] Failed to compile generated PTX with ptxas. Falling back to compilation by driver.\n",
      "2024-02-21 14:02:22.933221: E external/local_xla/xla/stream_executor/gpu/asm_compiler.cc:115] *** WARNING *** You are using ptxas 10.1.243, which is older than 11.1. ptxas before 11.1 is known to miscompile XLA code, leading to incorrect results or invalid-address errors.\n",
      "\n",
      "2024-02-21 14:02:22.995987: W tensorflow/compiler/mlir/tools/kernel_gen/transforms/gpu_kernel_to_blob_pass.cc:191] Failed to compile generated PTX with ptxas. Falling back to compilation by driver.\n",
      "2024-02-21 14:02:23.075995: E external/local_xla/xla/stream_executor/gpu/asm_compiler.cc:115] *** WARNING *** You are using ptxas 10.1.243, which is older than 11.1. ptxas before 11.1 is known to miscompile XLA code, leading to incorrect results or invalid-address errors.\n",
      "\n",
      "2024-02-21 14:02:23.145535: W tensorflow/compiler/mlir/tools/kernel_gen/transforms/gpu_kernel_to_blob_pass.cc:191] Failed to compile generated PTX with ptxas. Falling back to compilation by driver.\n",
      "2024-02-21 14:02:23.268942: E external/local_xla/xla/stream_executor/gpu/asm_compiler.cc:115] *** WARNING *** You are using ptxas 10.1.243, which is older than 11.1. ptxas before 11.1 is known to miscompile XLA code, leading to incorrect results or invalid-address errors.\n",
      "\n",
      "2024-02-21 14:02:23.321499: W tensorflow/compiler/mlir/tools/kernel_gen/transforms/gpu_kernel_to_blob_pass.cc:191] Failed to compile generated PTX with ptxas. Falling back to compilation by driver.\n",
      "2024-02-21 14:02:23.454273: E external/local_xla/xla/stream_executor/gpu/asm_compiler.cc:115] *** WARNING *** You are using ptxas 10.1.243, which is older than 11.1. ptxas before 11.1 is known to miscompile XLA code, leading to incorrect results or invalid-address errors.\n",
      "\n",
      "2024-02-21 14:02:23.520428: W tensorflow/compiler/mlir/tools/kernel_gen/transforms/gpu_kernel_to_blob_pass.cc:191] Failed to compile generated PTX with ptxas. Falling back to compilation by driver.\n",
      "2024-02-21 14:02:25.111672: E external/local_xla/xla/stream_executor/gpu/asm_compiler.cc:115] *** WARNING *** You are using ptxas 10.1.243, which is older than 11.1. ptxas before 11.1 is known to miscompile XLA code, leading to incorrect results or invalid-address errors.\n",
      "\n",
      "2024-02-21 14:02:25.117406: E external/local_xla/xla/stream_executor/gpu/asm_compiler.cc:115] *** WARNING *** You are using ptxas 10.1.243, which is older than 11.1. ptxas before 11.1 is known to miscompile XLA code, leading to incorrect results or invalid-address errors.\n",
      "\n",
      "2024-02-21 14:02:25.117886: E external/local_xla/xla/stream_executor/gpu/asm_compiler.cc:115] *** WARNING *** You are using ptxas 10.1.243, which is older than 11.1. ptxas before 11.1 is known to miscompile XLA code, leading to incorrect results or invalid-address errors.\n",
      "\n",
      "2024-02-21 14:02:25.120043: E external/local_xla/xla/stream_executor/gpu/asm_compiler.cc:115] *** WARNING *** You are using ptxas 10.1.243, which is older than 11.1. ptxas before 11.1 is known to miscompile XLA code, leading to incorrect results or invalid-address errors.\n",
      "\n",
      "2024-02-21 14:02:25.121496: E external/local_xla/xla/stream_executor/gpu/asm_compiler.cc:115] *** WARNING *** You are using ptxas 10.1.243, which is older than 11.1. ptxas before 11.1 is known to miscompile XLA code, leading to incorrect results or invalid-address errors.\n",
      "\n",
      "2024-02-21 14:02:25.121685: E external/local_xla/xla/stream_executor/gpu/asm_compiler.cc:115] *** WARNING *** You are using ptxas 10.1.243, which is older than 11.1. ptxas before 11.1 is known to miscompile XLA code, leading to incorrect results or invalid-address errors.\n",
      "\n",
      "2024-02-21 14:02:25.123422: E external/local_xla/xla/stream_executor/gpu/asm_compiler.cc:115] *** WARNING *** You are using ptxas 10.1.243, which is older than 11.1. ptxas before 11.1 is known to miscompile XLA code, leading to incorrect results or invalid-address errors.\n",
      "\n",
      "2024-02-21 14:02:25.173113: W tensorflow/compiler/mlir/tools/kernel_gen/transforms/gpu_kernel_to_blob_pass.cc:191] Failed to compile generated PTX with ptxas. Falling back to compilation by driver.\n",
      "2024-02-21 14:02:25.179974: W tensorflow/compiler/mlir/tools/kernel_gen/transforms/gpu_kernel_to_blob_pass.cc:191] Failed to compile generated PTX with ptxas. Falling back to compilation by driver.\n",
      "2024-02-21 14:02:25.182926: W tensorflow/compiler/mlir/tools/kernel_gen/transforms/gpu_kernel_to_blob_pass.cc:191] Failed to compile generated PTX with ptxas. Falling back to compilation by driver.\n",
      "2024-02-21 14:02:25.185414: W tensorflow/compiler/mlir/tools/kernel_gen/transforms/gpu_kernel_to_blob_pass.cc:191] Failed to compile generated PTX with ptxas. Falling back to compilation by driver.\n",
      "2024-02-21 14:02:25.185449: W tensorflow/compiler/mlir/tools/kernel_gen/transforms/gpu_kernel_to_blob_pass.cc:191] Failed to compile generated PTX with ptxas. Falling back to compilation by driver.\n",
      "2024-02-21 14:02:25.185487: W tensorflow/compiler/mlir/tools/kernel_gen/transforms/gpu_kernel_to_blob_pass.cc:191] Failed to compile generated PTX with ptxas. Falling back to compilation by driver.\n",
      "2024-02-21 14:02:25.189803: W tensorflow/compiler/mlir/tools/kernel_gen/transforms/gpu_kernel_to_blob_pass.cc:191] Failed to compile generated PTX with ptxas. Falling back to compilation by driver.\n",
      "2024-02-21 14:02:25.205565: E external/local_xla/xla/stream_executor/gpu/asm_compiler.cc:115] *** WARNING *** You are using ptxas 10.1.243, which is older than 11.1. ptxas before 11.1 is known to miscompile XLA code, leading to incorrect results or invalid-address errors.\n",
      "\n",
      "2024-02-21 14:02:25.268851: W tensorflow/compiler/mlir/tools/kernel_gen/transforms/gpu_kernel_to_blob_pass.cc:191] Failed to compile generated PTX with ptxas. Falling back to compilation by driver.\n"
     ]
    },
    {
     "name": "stdout",
     "output_type": "stream",
     "text": [
      "5/5 [==============================] - 8s 611ms/step - loss: 0.7337 - accuracy: 0.3929 - val_loss: 0.6393 - val_accuracy: 0.6167\n",
      "Epoch 2/5\n",
      "5/5 [==============================] - 3s 545ms/step - loss: 0.6681 - accuracy: 0.6143 - val_loss: 0.5754 - val_accuracy: 0.8167\n",
      "Epoch 3/5\n",
      "5/5 [==============================] - 3s 594ms/step - loss: 0.6143 - accuracy: 0.6857 - val_loss: 0.5334 - val_accuracy: 0.8333\n",
      "Epoch 4/5\n",
      "5/5 [==============================] - 3s 527ms/step - loss: 0.5935 - accuracy: 0.7214 - val_loss: 0.4997 - val_accuracy: 0.8667\n",
      "Epoch 5/5\n",
      "5/5 [==============================] - 2s 502ms/step - loss: 0.5453 - accuracy: 0.7429 - val_loss: 0.4785 - val_accuracy: 0.8333\n",
      "2/2 [==============================] - 0s 171ms/step - loss: 0.4785 - accuracy: 0.8333\n",
      "Test Accuracy: 83.33%\n"
     ]
    }
   ],
   "source": [
    "history = model.fit(train_images, train_labels, epochs=epochs,batch_size=batch_size, validation_data=(val_images, val_labels))\n",
    "\n",
    "# Evaluate the model\n",
    "test_loss, test_accuracy = model.evaluate(val_images, val_labels)\n",
    "print(f'Test Accuracy: {test_accuracy * 100:.2f}%')"
   ]
  },
  {
   "cell_type": "code",
   "execution_count": 15,
   "metadata": {},
   "outputs": [
    {
     "data": {
      "image/png": "[encoded data removed]",
      "text/plain": [
       "<Figure size 640x480 with 1 Axes>"
      ]
     },
     "metadata": {},
     "output_type": "display_data"
    }
   ],
   "source": [
    "plt.plot(history.history['loss'], label='Training Loss')\n",
    "plt.plot(history.history['val_loss'], label='Validation Loss')\n",
    "plt.xlabel('Epoch')\n",
    "plt.ylabel('Loss')\n",
    "plt.legend()\n",
    "plt.title('100 Fake and 100 Real Faces with 5 Epochs') \n",
    "plt.show()"
   ]
  },
  {
   "cell_type": "markdown",
   "metadata": {},
   "source": [
    "Iterating through different values of n to find the best value"
   ]
  },
  {
   "cell_type": "code",
   "execution_count": 13,
   "metadata": {},
   "outputs": [],
   "source": [
    "if not os.path.exists('logs'):\n",
    "    os.mkdir('logs')\n",
    "\n",
    "now = datetime.now()\n",
    "log_name = f\"log-{now.strftime('%Y-%m-%d_%H:%M')}.log\"\n",
    "log_file_path = os.path.join('logs', log_name)\n",
    "logging.basicConfig(level=logging.INFO, format='%(asctime)s - %(levelname)s - %(message)s',handlers=[\n",
    "        logging.StreamHandler(),  # Log to the console\n",
    "        logging.FileHandler(log_file_path)  # Log to a file\n",
    "    ])"
   ]
  },
  {
   "cell_type": "code",
   "execution_count": 14,
   "metadata": {},
   "outputs": [],
   "source": [
    "base_model = EfficientNetB0(input_shape=(224, 224, 3), include_top=False, weights='imagenet')\n",
    "base_model.trainable = False"
   ]
  },
  {
   "cell_type": "code",
   "execution_count": 15,
   "metadata": {},
   "outputs": [],
   "source": [
    "\n",
    "\n",
    "def train_and_evaluate_model(n, fake_images_dir, real_images_dir, epochs=30, batch_size=32):\n",
    "    logging.info(f\"Training model for {n} fake and {len(os.listdir(real_images_dir))} real faces.\")\n",
    "    now = datetime.now()\n",
    "    date_time = now.strftime(\"%m-%d_%H:%M\")\n",
    "\n",
    "    fake_files = n_random_files(n, fake_images_dir)\n",
    "    real_files = n_random_files(len(os.listdir(real_images_dir)), real_images_dir)\n",
    "    images, labels = load_dataset(fake_files, real_files)\n",
    "    logging.info(f\"Loaded {len(images)} images and {len(labels)} labels.\")\n",
    "    train_images, val_images, train_labels, val_labels = train_test_split(\n",
    "        images, labels, test_size=0.3, random_state=42\n",
    "    )\n",
    "\n",
    "    train_images = tf.keras.applications.efficientnet.preprocess_input(train_images)\n",
    "    val_images = tf.keras.applications.efficientnet.preprocess_input(val_images)\n",
    "    logging.info(\"Preprocessed images.\")\n",
    "\n",
    "    model = tf.keras.Sequential([\n",
    "        base_model,\n",
    "        layers.GlobalAveragePooling2D(),\n",
    "        layers.Dense(1, activation='sigmoid')  \n",
    "    ])\n",
    "\n",
    "    model.compile(optimizer='adam', loss='binary_crossentropy', metrics=['accuracy'])\n",
    "    \n",
    "    history = model.fit(train_images, train_labels, epochs=epochs, batch_size=batch_size, validation_data=(val_images, val_labels))\n",
    "    logging.info(\"Model trained.\")\n",
    "    \n",
    "    test_loss, test_accuracy = model.evaluate(val_images, val_labels)\n",
    "\n",
    "    # Logging model evaluation metrics\n",
    "    logging.info(f\"Model Evaluation for {n} fake and {len(os.listdir(real_images_dir))} real faces:\")\n",
    "    logging.info(f\"Test Loss: {test_loss}\")\n",
    "    logging.info(f\"Test Accuracy: {test_accuracy}\")\n",
    "\n",
    "    # Plotting accuracies\n",
    "    plt.plot(history.history['accuracy'], label='Training Accuracy')\n",
    "    plt.plot(history.history['val_accuracy'], label='Validation Accuracy')\n",
    "    plt.xlabel('Epoch')\n",
    "    plt.ylabel('Accuracy')\n",
    "    plt.title(f'{n} Fake and {len(os.listdir(real_images_dir))} Real Faces with {epochs} Epochs')\n",
    "    plt.legend()\n",
    "\n",
    "    accuracies_plot_path = f'plots/accuracies/{n}_fake_{len(os.listdir(real_images_dir))}_real_faces_{epochs}_epochs_{date_time}.png'\n",
    "    os.makedirs(os.path.dirname(accuracies_plot_path), exist_ok=True)\n",
    "    plt.savefig(accuracies_plot_path)\n",
    "    plt.close()\n",
    "\n",
    "    # Display confusion matrix\n",
    "    val_predictions = model.predict(val_images)\n",
    "    val_predictions = (val_predictions > 0.5).astype(int)\n",
    "\n",
    "    cm = confusion_matrix(val_labels, val_predictions)\n",
    "    plt.figure(figsize=(5, 5))\n",
    "    sns.heatmap(cm, annot=True, fmt=\"d\")\n",
    "    plt.title(f'{n} Fake and {len(os.listdir(real_images_dir))} Real Faces')\n",
    "    plt.xlabel('Predicted Label')\n",
    "    plt.ylabel('True Label')\n",
    "\n",
    "    confusion_matrix_plot_path = f'plots/confusion_matrices/{n}_fake_{len(os.listdir(real_images_dir))}_real_faces_{epochs}_epochs_{date_time}.png'\n",
    "    os.makedirs(os.path.dirname(confusion_matrix_plot_path), exist_ok=True)\n",
    "    plt.savefig(confusion_matrix_plot_path)\n",
    "    plt.close()\n",
    "\n",
    "    # Display loss graph\n",
    "    plt.plot(history.history['loss'], label='Training Loss')\n",
    "    plt.plot(history.history['val_loss'], label='Validation Loss')\n",
    "    plt.xlabel('Epoch')\n",
    "    plt.ylabel('Loss')\n",
    "    plt.legend()\n",
    "    plt.title(f'{n} Fake and {len(os.listdir(real_images_dir))} Real Faces with {epochs} Epochs')\n",
    "    losses_plot_path = f'plots/losses/{n}_fake_{len(os.listdir(real_images_dir))}_real_faces_{epochs}_epochs_{date_time}.png'\n",
    "    os.makedirs(os.path.dirname(losses_plot_path), exist_ok=True)\n",
    "    plt.savefig(losses_plot_path)\n",
    "    plt.close()\n",
    "\n",
    "    clear_memory()"
   ]
  },
  {
   "cell_type": "code",
   "execution_count": null,
   "metadata": {},
   "outputs": [],
   "source": [
    "def create_base_model(base='b0', regularization=False, reg=0):\n",
    "    base_model = None\n",
    "    if base == 'b0':\n",
    "        base_model = tf.keras.applications.EfficientNetB0(include_top=False, weights='imagenet')\n",
    "    elif base == 'b2':\n",
    "        base_model = tf.keras.applications.EfficientNetB2(include_top=False, weights='imagenet')\n",
    "\n",
    "    if not regularization:\n",
    "        model = tf.keras.Sequential([\n",
    "            base_model,\n",
    "            layers.GlobalAveragePooling2D(),\n",
    "            layers.Dense(1, activation='sigmoid')  \n",
    "        ])\n",
    "    else:\n",
    "        model = tf.keras.Sequential([\n",
    "            base_model,\n",
    "            layers.GlobalAveragePooling2D(),\n",
    "            layers.Dense(1, activation='sigmoid', kernel_regularizer=regularizers.l2(reg))  \n",
    "        ])\n",
    "        logging.info(f\"Regularization term of {reg} added\")\n",
    "\n",
    "    model.compile(optimizer='adam', loss='binary_crossentropy', metrics=['accuracy'])\n",
    "    return model\n",
    "\n",
    "def train_model(model, train_generator, val_generator, epochs=30):\n",
    "    history = model.fit(train_generator, epochs=epochs, validation_data=val_generator)\n",
    "    logging.info(\"Model trained.\")\n",
    "    return history\n",
    "\n",
    "def evaluate_model(model, val_images, val_labels):\n",
    "    test_loss, test_accuracy = model.evaluate(val_images, val_labels)\n",
    "    logging.info(f\"Test Loss: {test_loss}\")\n",
    "    logging.info(f\"Test Accuracy: {test_accuracy}\")\n",
    "\n",
    "def plot_metrics(history, title, output_dir, n, real_images_dir, epochs):\n",
    "    # Plotting accuracies\n",
    "    plt.plot(history.history['accuracy'], label='Training Accuracy')\n",
    "    plt.plot(history.history['val_accuracy'], label='Validation Accuracy')\n",
    "    plt.xlabel('Epoch')\n",
    "    plt.ylabel('Accuracy')\n",
    "    plt.title(f'{n} Fake and {len(os.listdir(real_images_dir))} Real Faces with {epochs} Epochs - {title}')\n",
    "    plt.legend()\n",
    "\n",
    "    accuracies_plot_path = os.path.join(output_dir, f'accuracies_{title}.png')\n",
    "    os.makedirs(os.path.dirname(accuracies_plot_path), exist_ok=True)\n",
    "    plt.savefig(accuracies_plot_path)\n",
    "    plt.close()\n",
    "\n",
    "    # Display confusion matrix\n",
    "    val_predictions = model.predict(val_images)\n",
    "    val_predictions = (val_predictions > 0.5).astype(int)\n",
    "\n",
    "    cm = confusion_matrix(val_labels, val_predictions)\n",
    "    plt.figure(figsize=(5, 5))\n",
    "    sns.heatmap(cm, annot=True, fmt=\"d\")\n",
    "    plt.title(f'{n} Fake and {len(os.listdir(real_images_dir))} Real Faces - {title}')\n",
    "    plt.xlabel('Predicted Label')\n",
    "    plt.ylabel('True Label')\n",
    "\n",
    "    confusion_matrix_plot_path = os.path.join(output_dir, f'confusion_matrix_{title}.png')\n",
    "    os.makedirs(os.path.dirname(confusion_matrix_plot_path), exist_ok=True)\n",
    "    plt.savefig(confusion_matrix_plot_path)\n",
    "    plt.close()\n",
    "\n",
    "    # Display loss graph\n",
    "    plt.plot(history.history['loss'], label='Training Loss')\n",
    "    plt.plot(history.history['val_loss'], label='Validation Loss')\n",
    "    plt.xlabel('Epoch')\n",
    "    plt.ylabel('Loss')\n",
    "    plt.legend()\n",
    "    plt.title(f'{n} Fake and {len(os.listdir(real_images_dir))} Real Faces with {epochs} Epochs - {title}')\n",
    "    losses_plot_path = os.path.join(output_dir, f'losses_{title}.png')\n",
    "    os.makedirs(os.path.dirname(losses_plot_path), exist_ok=True)\n",
    "    plt.savefig(losses_plot_path)\n",
    "    plt.close()\n",
    "\n",
    "def train_and_evaluate_model(n, fake_images_dir, real_images_dir, epochs=30, batch_size=16, regularization=False, reg=0, base='b0'):\n",
    "    logging.info(f\"Training model for {n} fake and {len(os.listdir(real_images_dir))} real faces of epochs {epochs}\")\n",
    "    now = datetime.now()\n",
    "    date_time = now.strftime(\"%m-%d_%H:%M\")\n",
    "\n",
    "    fake_files = n_random_files(n, fake_images_dir)\n",
    "    real_files = n_random_files(len(os.listdir(real_images_dir)), real_images_dir)\n",
    "    images, labels = load_dataset(fake_files, real_files)\n",
    "\n",
    "    datagen = ImageDataGenerator(preprocessing_function=tf.keras.applications.efficientnet.preprocess_input)\n",
    "\n",
    "    logging.info(f\"Loaded {len(images)} images and {len(labels)} labels.\")\n",
    "    train_images, val_images, train_labels, val_labels = train_test_split(\n",
    "        images, labels, test_size=0.3, random_state=42\n",
    "    )\n",
    "\n",
    "    train_generator = datagen.flow(x=train_images, y=train_labels, batch_size=batch_size, shuffle=True)\n",
    "    val_generator = datagen.flow(x=val_images, y=val_labels, batch_size=batch_size, shuffle=False)\n",
    "    logging.info(\"Preprocessed images.\")\n",
    "\n",
    "    model = create_base_model(base=base, regularization=regularization, reg=reg)\n",
    "\n",
    "    history = train_model(model, train_generator, val_generator, epochs=epochs)\n",
    "    \n",
    "    evaluate_model(model, val_images, val_labels)\n",
    "\n",
    "    title = f'Final-{n}_fake_{len(os.listdir(real_images_dir))}_real_faces_{epochs}_epochs_{date_time}'\n",
    "    output_dir = 'plots'\n",
    "    plot_metrics(history, title, output_dir, n, real_images_dir, epochs)\n",
    "\n",
    "    model.save(\"Deepfake2d.h5\")\n",
    "    clear_memory()\n",
    "    del model\n",
    "    del history\n",
    "    del train_generator\n",
    "    del val_generator\n",
    "    del images\n",
    "    del labels\n",
    "    del train_images\n",
    "    del val_images\n",
    "    del train_labels\n",
    "    del val_labels\n",
    "\n",
    "    gpus = tf.config.experimental.list_physical_devices('GPU')\n",
    "    for gpu in gpus:\n",
    "        memory_info = get_gpu_memory_usage()\n",
    "        logging.info(f\"Before Cleaning GPU {gpu.name}, memory usage: {memory_info['free']} / {memory_info['total']} MB\")\n",
    "\n",
    "    clear_memory()"
   ]
  },
  {
   "cell_type": "code",
   "execution_count": 16,
   "metadata": {},
   "outputs": [
    {
     "name": "stderr",
     "output_type": "stream",
     "text": [
      "2024-02-21 18:32:36,509 - INFO - Training model for 3000 fake and 1201 real faces.\n",
      "2024-02-21 18:32:43,464 - INFO - Loaded 4201 images and 4201 labels.\n",
      "2024-02-21 18:32:43,724 - INFO - Preprocessed images.\n"
     ]
    },
    {
     "name": "stdout",
     "output_type": "stream",
     "text": [
      "Epoch 1/30\n",
      "92/92 [==============================] - 47s 512ms/step - loss: 0.5128 - accuracy: 0.7310 - val_loss: 0.4738 - val_accuracy: 0.7708\n",
      "Epoch 2/30\n",
      "92/92 [==============================] - 46s 496ms/step - loss: 0.4479 - accuracy: 0.7854 - val_loss: 0.4418 - val_accuracy: 0.7891\n",
      "Epoch 3/30\n",
      "92/92 [==============================] - 45s 485ms/step - loss: 0.4243 - accuracy: 0.7983 - val_loss: 0.4190 - val_accuracy: 0.8002\n",
      "Epoch 4/30\n",
      "92/92 [==============================] - ETA: 0s - loss: 0.4023 - accuracy: 0.8160"
     ]
    }
   ],
   "source": [
    "# List of values for 'n'\n",
    "n_list = [3000, 4000, 5000, 6000]\n",
    "# n_list = [1000]\n",
    "epochs = 30\n",
    "\n",
    "# Train and evaluate models for different 'n' values\n",
    "for n in n_list:\n",
    "    train_and_evaluate_model(n, fake_images_dir, real_images_dir, epochs=epochs)"
   ]
  },
  {
   "cell_type": "code",
   "execution_count": null,
   "metadata": {},
   "outputs": [],
   "source": [
    "\n",
    "\n",
    "def train_and_evaluate_model(n, fake_images_dir, real_images_dir, epochs=30, batch_size=16,regularization=False,reg=0):\n",
    "    logging.info(f\"Training model for {n} fake and {len(os.listdir(real_images_dir))} real faces of epochs {epochs}\")\n",
    "    now = datetime.now()\n",
    "    date_time = now.strftime(\"%m-%d_%H:%M\")\n",
    "\n",
    "    fake_files = n_random_files(n, fake_images_dir)\n",
    "    real_files = n_random_files(len(os.listdir(real_images_dir)), real_images_dir)\n",
    "    images, labels = load_dataset(fake_files, real_files)\n",
    "\n",
    "    datagen = ImageDataGenerator(preprocessing_function=tf.keras.applications.efficientnet.preprocess_input)\n",
    "\n",
    "    logging.info(f\"Loaded {len(images)} images and {len(labels)} labels.\")\n",
    "    train_images, val_images, train_labels, val_labels = train_test_split(\n",
    "        images, labels, test_size=0.3, random_state=42\n",
    "    )\n",
    "\n",
    "    train_generator = datagen.flow(x=train_images, y=train_labels, batch_size=batch_size, shuffle=True)\n",
    "    val_generator = datagen.flow(x=val_images, y=val_labels, batch_size=batch_size, shuffle=False)\n",
    "    logging.info(\"Preprocessed images.\")\n",
    "\n",
    "    if not regularization:\n",
    "        model = tf.keras.Sequential([\n",
    "            base_model,\n",
    "            layers.GlobalAveragePooling2D(),\n",
    "            layers.Dense(1, activation='sigmoid')  \n",
    "        ])\n",
    "    else:\n",
    "        model = tf.keras.Sequential([\n",
    "        base_model,\n",
    "        layers.GlobalAveragePooling2D(),\n",
    "        layers.Dense(1, activation='sigmoid', kernel_regularizer=regularizers.l2(reg))  \n",
    "        ])\n",
    "        logging.info(f\"REgularization term of {reg} added\")\n",
    "\n",
    "    model.compile(optimizer='adam', loss='binary_crossentropy', metrics=['accuracy'])\n",
    "    \n",
    "    history = model.fit(train_generator, epochs=epochs, validation_data=val_generator)\n",
    "    logging.info(\"Model trained.\")\n",
    "    \n",
    "    test_loss, test_accuracy = model.evaluate(val_images, val_labels)\n",
    "\n",
    "    # Logging model evaluation metrics\n",
    "    logging.info(f\"Model Evaluation for {n} fake and {len(os.listdir(real_images_dir))} real faces:\")\n",
    "    logging.info(f\"Test Loss: {test_loss}\")\n",
    "    logging.info(f\"Test Accuracy: {test_accuracy}\")\n",
    "\n",
    "    gpus = tf.config.experimental.list_physical_devices('GPU')\n",
    "    for gpu in gpus:\n",
    "        memory_info = get_gpu_memory_usage()\n",
    "        logging.info(f\"Before Cleaning GPU {gpu.name}, memory usage: {memory_info['free']} / {memory_info['total']} MB\")\n",
    "    clear_memory()\n",
    "    model.save(f'models/{base}_fake_{len(os.listdir(real_images_dir))}_real_faces_{epochs}_epochs.h5')"
   ]
  },
  {
   "cell_type": "code",
   "execution_count": null,
   "metadata": {},
   "outputs": [],
   "source": [
    "loaded_model = tf.keras.models.load_model('models/Reg0 3000_fake_1000_real_faces_30_epochs_05-25_14:00.h5')"
   ]
  }
 ],
 "metadata": {
  "kernelspec": {
   "display_name": "Python 3",
   "language": "python",
   "name": "python3"
  },
  "language_info": {
   "codemirror_mode": {
    "name": "ipython",
    "version": 3
   },
   "file_extension": ".py",
   "mimetype": "text/x-python",
   "name": "python",
   "nbconvert_exporter": "python",
   "pygments_lexer": "ipython3",
   "version": "3.10.12"
  }
 },
 "nbformat": 4,
 "nbformat_minor": 2
}
