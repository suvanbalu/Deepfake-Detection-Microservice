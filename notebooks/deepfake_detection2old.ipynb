{
 "cells": [
  {
   "cell_type": "code",
   "execution_count": 38,
   "metadata": {},
   "outputs": [],
   "source": [
    "import pandas as pd\n",
    "import os\n",
    "import random\n",
    "import shutil\n",
    "import glob\n",
    "import numpy as np\n",
    "import cv2\n",
    "import matplotlib.pyplot as plt\n",
    "from sklearn.metrics import confusion_matrix\n",
    "import seaborn as sns\n",
    "import logging\n",
    "from datetime import datetime"
   ]
  },
  {
   "cell_type": "markdown",
   "metadata": {},
   "source": [
    "Finding Number of faces in FAKE and REAL labelled folders"
   ]
  },
  {
   "cell_type": "code",
   "execution_count": 7,
   "metadata": {},
   "outputs": [
    {
     "name": "stdout",
     "output_type": "stream",
     "text": [
      "No. of Deep-Faked Faces 9810\n",
      "No. of Real Faces 1201\n"
     ]
    }
   ],
   "source": [
    "face_path = \"faces\"\n",
    "fake_images_dir = os.path.join(face_path, \"FAKE\")\n",
    "real_images_dir = os.path.join(face_path,\"REAL\")\n",
    "print(\"No. of Deep-Faked Faces\",len(os.listdir(fake_images_dir)))\n",
    "print(\"No. of Real Faces\",len(os.listdir(real_images_dir)))"
   ]
  },
  {
   "cell_type": "markdown",
   "metadata": {},
   "source": [
    "There are 9x more fake images than real images, so we need to balance the dataset. We will follow a mixed approach to balance the dataset.\n",
    "\n",
    "1. Remove the 3rd frame from the fake videos to reduce the number of fake images. (approximately 3x reduction in fake images)\n",
    "2. Randomly select n number of fake images to balance the dataset. (where n is variable and model is trained on different values of n to find the best value)\n",
    "\n",
    "We are moving all the unused images to a separate folder called `unused_images` for future use."
   ]
  },
  {
   "cell_type": "code",
   "execution_count": 8,
   "metadata": {},
   "outputs": [
    {
     "data": {
      "text/plain": [
       "['aakbpusmxs.mp4_0.jpg',\n",
       " 'aakbpusmxs.mp4_1.jpg',\n",
       " 'aakbpusmxs.mp4_2.jpg',\n",
       " 'aanzliuzft.mp4_0.jpg',\n",
       " 'aanzliuzft.mp4_1.jpg',\n",
       " 'aanzliuzft.mp4_2.jpg',\n",
       " 'aatfilvfmc.mp4_0.jpg',\n",
       " 'aatfilvfmc.mp4_1.jpg',\n",
       " 'aatfxhkzqx.mp4_0.jpg',\n",
       " 'aatfxhkzqx.mp4_1.jpg']"
      ]
     },
     "execution_count": 8,
     "metadata": {},
     "output_type": "execute_result"
    }
   ],
   "source": [
    "os.listdir(fake_images_dir)[:10]"
   ]
  },
  {
   "cell_type": "code",
   "execution_count": 11,
   "metadata": {},
   "outputs": [
    {
     "name": "stdout",
     "output_type": "stream",
     "text": [
      "6745\n"
     ]
    }
   ],
   "source": [
    "unused_folder = os.path.join(face_path, \"unused_images\")\n",
    "\n",
    "if not os.path.exists(unused_folder):\n",
    "    os.mkdir(unused_folder)\n",
    "\n",
    "fake_images = glob.glob(os.path.join(fake_images_dir, \"*_2.j*\"))\n",
    "\n",
    "for file_path in fake_images:\n",
    "    filename = os.path.basename(file_path)\n",
    "    dest_path = os.path.join(unused_folder, filename)\n",
    "    shutil.move(file_path, dest_path)\n",
    "\n",
    "print(len(os.listdir(fake_images_dir)))"
   ]
  },
  {
   "cell_type": "code",
   "execution_count": 14,
   "metadata": {},
   "outputs": [
    {
     "name": "stdout",
     "output_type": "stream",
     "text": [
      "1000 ['faces/FAKE/akzaetsbkv.mp4_0.jpg', 'faces/FAKE/xbefwtxoeu.mp4_1.jpg', 'faces/FAKE/zrszyojjxt.mp4_1.jpg', 'faces/FAKE/xdtapzzgnj.mp4_1.jpg', 'faces/FAKE/ssrurhueaa.mp4_1.jpg']\n"
     ]
    }
   ],
   "source": [
    "def n_random_files(n,src_dir):\n",
    "  files = list(map(lambda x : os.path.join(src_dir, x),os.listdir(src_dir)))\n",
    "  sampled_files = random.sample(files,n)\n",
    "  return sampled_files\n",
    "\n",
    "fake_1000 = n_random_files(1000,fake_images_dir)\n",
    "print(len(fake_1000), fake_1000[:5])"
   ]
  },
  {
   "cell_type": "markdown",
   "metadata": {},
   "source": [
    "Loading the Images and the Labels"
   ]
  },
  {
   "cell_type": "code",
   "execution_count": 19,
   "metadata": {},
   "outputs": [
    {
     "name": "stdout",
     "output_type": "stream",
     "text": [
      "(224, 224, 3)\n"
     ]
    }
   ],
   "source": [
    "a = cv2.imread(fake_1000[0])\n",
    "print(a.shape)"
   ]
  },
  {
   "cell_type": "code",
   "execution_count": 20,
   "metadata": {},
   "outputs": [],
   "source": [
    "def load_dataset(fake_files, real_files):\n",
    "  images = []\n",
    "  labels = []\n",
    "\n",
    "  for file in fake_files:\n",
    "    image = cv2.imread(file)\n",
    "    images.append(image)\n",
    "    labels.append(1)\n",
    "  \n",
    "  for file in real_files:\n",
    "    image = cv2.imread(file)\n",
    "    images.append(image)\n",
    "    labels.append(0)\n",
    "  \n",
    "  return np.array(images), np.array(labels)"
   ]
  },
  {
   "cell_type": "code",
   "execution_count": 23,
   "metadata": {},
   "outputs": [
    {
     "name": "stdout",
     "output_type": "stream",
     "text": [
      "(200, 224, 224, 3) (200,)\n"
     ]
    }
   ],
   "source": [
    "fake_files = n_random_files(100,fake_images_dir)\n",
    "real_files = n_random_files(100,real_images_dir)\n",
    "\n",
    "images, labels = load_dataset(fake_files, real_files)\n",
    "\n",
    "print(images.shape, labels.shape)"
   ]
  },
  {
   "cell_type": "markdown",
   "metadata": {},
   "source": [
    "Train the model on the dataset"
   ]
  },
  {
   "cell_type": "code",
   "execution_count": 50,
   "metadata": {},
   "outputs": [],
   "source": [
    "import tensorflow as tf\n",
    "from tensorflow.keras import layers\n",
    "from tensorflow.keras.applications import EfficientNetB0\n",
    "from sklearn.model_selection import train_test_split"
   ]
  },
  {
   "cell_type": "code",
   "execution_count": 51,
   "metadata": {},
   "outputs": [],
   "source": [
    "train_images, val_images, train_labels, val_labels = train_test_split(\n",
    "    images, labels, test_size=0.3, random_state=42\n",
    ")"
   ]
  },
  {
   "cell_type": "code",
   "execution_count": 52,
   "metadata": {},
   "outputs": [],
   "source": [
    "train_images = tf.keras.applications.efficientnet.preprocess_input(train_images)\n",
    "val_images = tf.keras.applications.efficientnet.preprocess_input(val_images)"
   ]
  },
  {
   "cell_type": "code",
   "execution_count": 53,
   "metadata": {},
   "outputs": [],
   "source": [
    "base_model = EfficientNetB0(input_shape=(224, 224, 3), include_top=False, weights='imagenet')\n",
    "base_model.trainable = False\n",
    "\n",
    "model = tf.keras.Sequential([\n",
    "    base_model,\n",
    "    layers.GlobalAveragePooling2D(),\n",
    "    layers.Dense(1, activation='sigmoid')  \n",
    "])\n",
    "\n",
    "model.compile(optimizer='adam', loss='binary_crossentropy', metrics=['accuracy'])\n",
    "\n",
    "# model.summary()"
   ]
  },
  {
   "cell_type": "code",
   "execution_count": 54,
   "metadata": {},
   "outputs": [
    {
     "name": "stdout",
     "output_type": "stream",
     "text": [
      "Epoch 1/5\n",
      "5/5 [==============================] - 11s 688ms/step - loss: 0.7042 - accuracy: 0.4857 - val_loss: 0.6506 - val_accuracy: 0.6500\n",
      "Epoch 2/5\n",
      "5/5 [==============================] - 0s 83ms/step - loss: 0.6361 - accuracy: 0.6786 - val_loss: 0.6388 - val_accuracy: 0.6167\n",
      "Epoch 3/5\n",
      "5/5 [==============================] - 0s 72ms/step - loss: 0.5876 - accuracy: 0.7571 - val_loss: 0.6240 - val_accuracy: 0.6333\n",
      "Epoch 4/5\n",
      "5/5 [==============================] - 0s 71ms/step - loss: 0.5608 - accuracy: 0.7571 - val_loss: 0.6152 - val_accuracy: 0.6833\n",
      "Epoch 5/5\n",
      "5/5 [==============================] - 0s 70ms/step - loss: 0.5370 - accuracy: 0.7857 - val_loss: 0.6133 - val_accuracy: 0.6833\n",
      "2/2 [==============================] - 0s 42ms/step - loss: 0.6133 - accuracy: 0.6833\n",
      "Test Accuracy: 68.33%\n"
     ]
    }
   ],
   "source": [
    "batch_size = 32\n",
    "history = model.fit(train_images, train_labels, epochs=5,batch_size=batch_size, validation_data=(val_images, val_labels))\n",
    "\n",
    "# Evaluate the model\n",
    "test_loss, test_accuracy = model.evaluate(val_images, val_labels)\n",
    "print(f'Test Accuracy: {test_accuracy * 100:.2f}%')"
   ]
  },
  {
   "cell_type": "code",
   "execution_count": 31,
   "metadata": {},
   "outputs": [
    {
     "data": {
      "image/png": "[encoded data removed]",
      "text/plain": [
       "<Figure size 640x480 with 1 Axes>"
      ]
     },
     "metadata": {},
     "output_type": "display_data"
    }
   ],
   "source": [
    "plt.plot(history.history['loss'], label='Training Loss')\n",
    "plt.plot(history.history['val_loss'], label='Validation Loss')\n",
    "plt.xlabel('Epoch')\n",
    "plt.ylabel('Loss')\n",
    "plt.legend()\n",
    "plt.title('100 Fake and 100 Real Faces with 5 Epochs') \n",
    "plt.show()"
   ]
  },
  {
   "cell_type": "markdown",
   "metadata": {},
   "source": [
    "Iterating through different values of n to find the best value"
   ]
  },
  {
   "cell_type": "code",
   "execution_count": 45,
   "metadata": {},
   "outputs": [],
   "source": [
    "if not os.path.exists('logs'):\n",
    "    os.mkdir('logs')\n",
    "\n",
    "now = datetime.now()\n",
    "log_name = f\"log-{now.strftime('%Y-%m-%d_%H:%M')}.log\"\n",
    "log_file_path = os.path.join('logs', log_name)\n",
    "logging.basicConfig(level=logging.INFO, format='%(asctime)s - %(levelname)s - %(message)s',handlers=[\n",
    "        logging.StreamHandler(),  # Log to the console\n",
    "        logging.FileHandler(log_file_path)  # Log to a file\n",
    "    ])"
   ]
  },
  {
   "cell_type": "code",
   "execution_count": 46,
   "metadata": {},
   "outputs": [],
   "source": [
    "\n",
    "\n",
    "def train_and_evaluate_model(n, fake_images_dir, real_images_dir, epochs=30, batch_size=32):\n",
    "    logging.info(f\"Training model for {n} fake and {len(os.listdir(real_images_dir))} real faces.\")\n",
    "    now = datetime.now()\n",
    "    date_time = now.strftime(\"%m-%d_%H:%M\")\n",
    "    \n",
    "    fake_files = n_random_files(n, fake_images_dir)\n",
    "    real_files = n_random_files(len(os.listdir(real_images_dir)), real_images_dir)\n",
    "    images, labels = load_dataset(fake_files, real_files)\n",
    "    logging.info(f\"Loaded {len(images)} images and {len(labels)} labels.\")\n",
    "    train_images, val_images, train_labels, val_labels = train_test_split(\n",
    "        images, labels, test_size=0.3, random_state=42\n",
    "    )\n",
    "\n",
    "    train_images = tf.keras.applications.efficientnet.preprocess_input(train_images)\n",
    "    val_images = tf.keras.applications.efficientnet.preprocess_input(val_images)\n",
    "    logging.info(\"Preprocessed images.\")\n",
    "\n",
    "    base_model = EfficientNetB0(input_shape=(224, 224, 3), include_top=False, weights='imagenet')\n",
    "    base_model.trainable = False\n",
    "\n",
    "    model = tf.keras.Sequential([\n",
    "        base_model,\n",
    "        layers.GlobalAveragePooling2D(),\n",
    "        layers.Dense(1, activation='sigmoid')  \n",
    "    ])\n",
    "\n",
    "    model.compile(optimizer='adam', loss='binary_crossentropy', metrics=['accuracy'])\n",
    "    \n",
    "    history = model.fit(train_images, train_labels, epochs=epochs, batch_size=batch_size, validation_data=(val_images, val_labels))\n",
    "    logging.info(\"Model trained.\")\n",
    "    \n",
    "    test_loss, test_accuracy = model.evaluate(val_images, val_labels)\n",
    "\n",
    "    # Logging model evaluation metrics\n",
    "    logging.info(f\"Model Evaluation for {n} fake and {len(os.listdir(real_images_dir))} real faces:\")\n",
    "    logging.info(f\"Test Loss: {test_loss}\")\n",
    "    logging.info(f\"Test Accuracy: {test_accuracy}\")\n",
    "\n",
    "    # Plotting accuracies\n",
    "    plt.plot(history.history['accuracy'], label='Training Accuracy')\n",
    "    plt.plot(history.history['val_accuracy'], label='Validation Accuracy')\n",
    "    plt.xlabel('Epoch')\n",
    "    plt.ylabel('Accuracy')\n",
    "    plt.title(f'{n} Fake and {len(os.listdir(real_images_dir))} Real Faces with {epochs} Epochs')\n",
    "    plt.legend()\n",
    "\n",
    "    accuracies_plot_path = f'plots/accuracies/{n}_fake_{len(os.listdir(real_images_dir))}_real_faces_{epochs}_epochs_{date_time}.png'\n",
    "    os.makedirs(os.path.dirname(accuracies_plot_path), exist_ok=True)\n",
    "    plt.savefig(accuracies_plot_path)\n",
    "    plt.close()\n",
    "\n",
    "    # Display confusion matrix\n",
    "    val_predictions = model.predict(val_images)\n",
    "    val_predictions = (val_predictions > 0.5).astype(int)\n",
    "\n",
    "    cm = confusion_matrix(val_labels, val_predictions)\n",
    "    plt.figure(figsize=(5, 5))\n",
    "    sns.heatmap(cm, annot=True, fmt=\"d\")\n",
    "    plt.title(f'{n} Fake and {len(os.listdir(real_images_dir))} Real Faces')\n",
    "    plt.xlabel('Predicted Label')\n",
    "    plt.ylabel('True Label')\n",
    "\n",
    "    confusion_matrix_plot_path = f'plots/confusion_matrices/{n}_fake_{len(os.listdir(real_images_dir))}_real_faces_{epochs}_epochs_{date_time}.png'\n",
    "    os.makedirs(os.path.dirname(confusion_matrix_plot_path), exist_ok=True)\n",
    "    plt.savefig(confusion_matrix_plot_path)\n",
    "    plt.close()\n",
    "\n",
    "    # Display loss graph\n",
    "    plt.plot(history.history['loss'], label='Training Loss')\n",
    "    plt.plot(history.history['val_loss'], label='Validation Loss')\n",
    "    plt.xlabel('Epoch')\n",
    "    plt.ylabel('Loss')\n",
    "    plt.legend()\n",
    "    plt.title(f'{n} Fake and {len(os.listdir(real_images_dir))} Real Faces with {epochs} Epochs')\n",
    "    losses_plot_path = f'plots/losses/{n}_fake_{len(os.listdir(real_images_dir))}_real_faces_{epochs}_epochs_{date_time}.png'\n",
    "    os.makedirs(os.path.dirname(losses_plot_path), exist_ok=True)\n",
    "    plt.savefig(losses_plot_path)\n",
    "    plt.close()"
   ]
  },
  {
   "cell_type": "code",
   "execution_count": 47,
   "metadata": {},
   "outputs": [
    {
     "name": "stderr",
     "output_type": "stream",
     "text": [
      "2024-02-21 13:29:03,059 - INFO - Training model for 1000 fake and 1201 real faces.\n"
     ]
    },
    {
     "name": "stdout",
     "output_type": "stream",
     "text": [
      "Epoch 1/3\n",
      "49/49 [==============================] - 14s 109ms/step - loss: 0.6142 - accuracy: 0.6630 - val_loss: 0.5799 - val_accuracy: 0.7126\n",
      "Epoch 2/3\n",
      "49/49 [==============================] - 3s 63ms/step - loss: 0.5331 - accuracy: 0.7448 - val_loss: 0.5386 - val_accuracy: 0.7383\n",
      "Epoch 3/3\n",
      "49/49 [==============================] - 3s 65ms/step - loss: 0.4970 - accuracy: 0.7786 - val_loss: 0.5183 - val_accuracy: 0.7443\n",
      "21/21 [==============================] - 1s 45ms/step - loss: 0.5183 - accuracy: 0.7443\n"
     ]
    },
    {
     "name": "stderr",
     "output_type": "stream",
     "text": [
      "2024-02-21 13:29:55,563 - INFO - Model Evaluation for 1000 fake and 1201 real faces:\n",
      "2024-02-21 13:29:55,565 - INFO - Test Loss: 0.5183479189872742\n",
      "2024-02-21 13:29:55,566 - INFO - Test Accuracy: 0.7443267703056335\n"
     ]
    },
    {
     "name": "stdout",
     "output_type": "stream",
     "text": [
      "21/21 [==============================] - 3s 42ms/step\n"
     ]
    }
   ],
   "source": [
    "# List of values for 'n'\n",
    "n_list = [1000, 2000, 3000, 4000, 5000, 6000]\n",
    "# n_list = [1000]\n",
    "epochs = 3\n",
    "\n",
    "# Train and evaluate models for different 'n' values\n",
    "for n in n_list:\n",
    "    train_and_evaluate_model(n, fake_images_dir, real_images_dir, epochs=epochs)"
   ]
  },
  {
   "cell_type": "code",
   "execution_count": null,
   "metadata": {},
   "outputs": [],
   "source": [
    "E tensorflow/core/grappler/optimizers/meta_optimizer.cc:961] layout failed: INVALID_ARGUMENT: Size of values 0 does not match size of permutation 4 @ fanin shape insequential/efficientnetb0/block2b_drop/dropout/SelectV2-2-TransposeNHWCToNCHW-LayoutOptimizer\n",
    "2024-02-21 13:50:38.390546: E external/local_xla/xla/stream_executor/gpu/asm_compiler.cc:115] *** WARNING *** You are using ptxas 10.1.243, which is older than 11.1. ptxas before 11.1 is known to miscompile XLA code, leading to incorrect results or invalid-address errors."
   ]
  }
 ],
 "metadata": {
  "kernelspec": {
   "display_name": "Python 3",
   "language": "python",
   "name": "python3"
  },
  "language_info": {
   "codemirror_mode": {
    "name": "ipython",
    "version": 3
   },
   "file_extension": ".py",
   "mimetype": "text/x-python",
   "name": "python",
   "nbconvert_exporter": "python",
   "pygments_lexer": "ipython3",
   "version": "3.10.12"
  }
 },
 "nbformat": 4,
 "nbformat_minor": 2
}
